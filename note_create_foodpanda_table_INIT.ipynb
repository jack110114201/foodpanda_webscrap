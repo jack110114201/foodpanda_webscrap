{
 "cells": [
  {
   "cell_type": "code",
   "execution_count": 1,
   "id": "23a37dfc",
   "metadata": {},
   "outputs": [],
   "source": [
    "# sudo apt -y install python3-psycopg2\n",
    "import psycopg2\n",
    "from config.db_config import config\n",
    "\n",
    "class TableCreator:\n",
    "    def __init__(self):\n",
    "        self.conn = None\n",
    "\n",
    "    def connect(self):\n",
    "        try:\n",
    "            # Read connection parameters\n",
    "            params = config()\n",
    "\n",
    "            # Connect to the PostgreSQL server\n",
    "            print('Connecting to the PostgreSQL database...')\n",
    "            self.conn = psycopg2.connect(**params)\n",
    "        except (Exception, psycopg2.DatabaseError) as error:\n",
    "            print(\"Error occurred during connection:\", error)\n",
    "\n",
    "    def create_table(self, sql_statement_path):\n",
    "        try:\n",
    "            self.connect()\n",
    "\n",
    "            # Read SQL script from file\n",
    "            with open(sql_statement_path, 'r') as file:\n",
    "                sql_script = file.read()\n",
    "\n",
    "            # Create a cursor and execute the statement\n",
    "            cur = self.conn.cursor()\n",
    "            cur.execute(sql_script)\n",
    "            self.conn.commit()\n",
    "            print(f'Create Table Success with {sql_statement_path}')\n",
    "            cur.close()\n",
    "        except (Exception, psycopg2.DatabaseError) as error:\n",
    "            print(error)\n",
    "        finally:\n",
    "            if self.conn is not None:\n",
    "                self.conn.close()\n",
    "                print('Database connection closed.')"
   ]
  },
  {
   "cell_type": "code",
   "execution_count": 2,
   "id": "272fa591",
   "metadata": {},
   "outputs": [
    {
     "name": "stdout",
     "output_type": "stream",
     "text": [
      "Connecting to the PostgreSQL database...\n",
      "Create Table Success with ./sql_script/foodpanda_shop_profile_create_table.sql\n",
      "Database connection closed.\n",
      "Connecting to the PostgreSQL database...\n",
      "Create Table Success with ./sql_script/foodpanda_shop_feature_create_table.sql\n",
      "Database connection closed.\n",
      "Connecting to the PostgreSQL database...\n",
      "Create Table Success with ./sql_script/foodpanda_shop_url_create_table.sql\n",
      "Database connection closed.\n",
      "Connecting to the PostgreSQL database...\n",
      "Create Table Success with ./sql_script/foodpanda_shop_adr_create_table.sql\n",
      "Database connection closed.\n",
      "Connecting to the PostgreSQL database...\n",
      "Create Table Success with ./sql_script/foodpanda_shop_feature_detail_create_table.sql\n",
      "Database connection closed.\n",
      "Connecting to the PostgreSQL database...\n",
      "Create Table Success with ./sql_script/foodpanda_shop_product_detail_create_table.sql\n",
      "Database connection closed.\n",
      "Connecting to the PostgreSQL database...\n",
      "Create Table Success with ./sql_script/foodpanda_shop_time_create_table.sql\n",
      "Database connection closed.\n"
     ]
    }
   ],
   "source": [
    "# Usage example\n",
    "table_creator = TableCreator()\n",
    "table_creator.create_table('./sql_script/foodpanda_shop_profile_create_table.sql')\n",
    "table_creator.create_table('./sql_script/foodpanda_shop_feature_create_table.sql')\n",
    "table_creator.create_table('./sql_script/foodpanda_shop_url_create_table.sql')\n",
    "table_creator.create_table('./sql_script/foodpanda_shop_adr_create_table.sql')\n",
    "table_creator.create_table('./sql_script/foodpanda_shop_feature_detail_create_table.sql')\n",
    "table_creator.create_table('./sql_script/foodpanda_shop_product_detail_create_table.sql')\n",
    "table_creator.create_table('./sql_script/foodpanda_shop_time_create_table.sql')"
   ]
  }
 ],
 "metadata": {
  "kernelspec": {
   "display_name": "Python 3 (ipykernel)",
   "language": "python",
   "name": "python3"
  },
  "language_info": {
   "codemirror_mode": {
    "name": "ipython",
    "version": 3
   },
   "file_extension": ".py",
   "mimetype": "text/x-python",
   "name": "python",
   "nbconvert_exporter": "python",
   "pygments_lexer": "ipython3",
   "version": "3.8.10"
  }
 },
 "nbformat": 4,
 "nbformat_minor": 5
}
